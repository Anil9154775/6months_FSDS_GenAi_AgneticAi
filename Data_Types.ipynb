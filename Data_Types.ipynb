{
 "cells": [
  {
   "cell_type": "code",
   "execution_count": 3,
   "id": "3c7d29e5-e791-4a6e-9983-95f9805c2c82",
   "metadata": {},
   "outputs": [
    {
     "data": {
      "text/plain": [
       "22"
      ]
     },
     "execution_count": 3,
     "metadata": {},
     "output_type": "execute_result"
    }
   ],
   "source": [
    "i = 22\n",
    "i"
   ]
  },
  {
   "cell_type": "code",
   "execution_count": 44,
   "id": "324d789e-243b-4b83-863d-93f294ee1d45",
   "metadata": {},
   "outputs": [
    {
     "ename": "TypeError",
     "evalue": "type() takes 1 or 3 arguments",
     "output_type": "error",
     "traceback": [
      "\u001b[1;31m---------------------------------------------------------------------------\u001b[0m",
      "\u001b[1;31mTypeError\u001b[0m                                 Traceback (most recent call last)",
      "Cell \u001b[1;32mIn[44], line 1\u001b[0m\n\u001b[1;32m----> 1\u001b[0m \u001b[38;5;28mtype\u001b[39m()\n",
      "\u001b[1;31mTypeError\u001b[0m: type() takes 1 or 3 arguments"
     ]
    }
   ],
   "source": [
    "type()  #type() takes 1 or 3 arguments"
   ]
  },
  {
   "cell_type": "code",
   "execution_count": 45,
   "id": "ee4502bb-1a5b-46a1-81ae-0365969879b7",
   "metadata": {},
   "outputs": [
    {
     "data": {
      "text/plain": [
       "int"
      ]
     },
     "execution_count": 45,
     "metadata": {},
     "output_type": "execute_result"
    }
   ],
   "source": [
    "type(i) "
   ]
  },
  {
   "cell_type": "code",
   "execution_count": 26,
   "id": "906b9e23-29ff-400c-b251-7bd7602fa798",
   "metadata": {},
   "outputs": [
    {
     "data": {
      "text/plain": [
       "1.0"
      ]
     },
     "execution_count": 26,
     "metadata": {},
     "output_type": "execute_result"
    }
   ],
   "source": [
    "num1 = 10 \n",
    "num2 = 10\n",
    "ad = num1+num2\n",
    "mul =  num1*num2\n",
    "sub = num1-num2\n",
    "div = num1/num2\n",
    "ad\n",
    "mul\n",
    "sub\n",
    "div"
   ]
  },
  {
   "cell_type": "code",
   "execution_count": 27,
   "id": "804a8bd9-b7be-4018-84ff-9f79dbbf1f1f",
   "metadata": {},
   "outputs": [
    {
     "name": "stdout",
     "output_type": "stream",
     "text": [
      "20\n",
      "100\n",
      "0\n",
      "1.0\n"
     ]
    }
   ],
   "source": [
    "num1 = 10 \n",
    "num2 = 10\n",
    "ad = num1+num2\n",
    "mul =  num1*num2\n",
    "sub = num1-num2\n",
    "div = num1/num2\n",
    "print(ad)\n",
    "print(mul)\n",
    "print(sub)\n",
    "print(div)"
   ]
  },
  {
   "cell_type": "code",
   "execution_count": 6,
   "id": "7638d72f-4698-4bb9-aa0c-1ec406896eb3",
   "metadata": {},
   "outputs": [
    {
     "name": "stdout",
     "output_type": "stream",
     "text": [
      "Add of 10 and 20 and 30 is =60\n"
     ]
    }
   ],
   "source": [
    "num1 =10\n",
    "num2 = 20\n",
    "num3 = 30\n",
    "add = num1+num2+num3\n",
    "print(\"Add of {} and {} and {} is = {}\".format(num1,num2,num3,add))"
   ]
  },
  {
   "cell_type": "code",
   "execution_count": 7,
   "id": "8ef37cef-5e0a-4404-8b64-98c00b06c860",
   "metadata": {},
   "outputs": [
    {
     "data": {
      "text/plain": [
       "10.3"
      ]
     },
     "execution_count": 7,
     "metadata": {},
     "output_type": "execute_result"
    }
   ],
   "source": [
    "f = 10.3\n",
    "f"
   ]
  },
  {
   "cell_type": "code",
   "execution_count": 33,
   "id": "2cbc4481-c3ef-4143-938b-29c5db630567",
   "metadata": {},
   "outputs": [
    {
     "data": {
      "text/plain": [
       "float"
      ]
     },
     "execution_count": 33,
     "metadata": {},
     "output_type": "execute_result"
    }
   ],
   "source": [
    "type(f)\n"
   ]
  },
  {
   "cell_type": "code",
   "execution_count": 34,
   "id": "680b9f51-7adc-445c-9777-97939789a153",
   "metadata": {},
   "outputs": [],
   "source": []
  },
  {
   "cell_type": "code",
   "execution_count": 32,
   "id": "16a5da93-78fc-4e86-93d5-cf0734246977",
   "metadata": {},
   "outputs": [
    {
     "data": {
      "text/plain": [
       "(10+10j)"
      ]
     },
     "execution_count": 32,
     "metadata": {},
     "output_type": "execute_result"
    }
   ],
   "source": [
    "a = 10\n",
    "b = 10j\n",
    "add = a+b\n",
    "add"
   ]
  },
  {
   "cell_type": "code",
   "execution_count": 43,
   "id": "2a8f4873-3d05-40ca-9b36-a4b93bcd23b8",
   "metadata": {},
   "outputs": [
    {
     "ename": "SyntaxError",
     "evalue": "invalid syntax (3230591493.py, line 1)",
     "output_type": "error",
     "traceback": [
      "\u001b[1;36m  Cell \u001b[1;32mIn[43], line 1\u001b[1;36m\u001b[0m\n\u001b[1;33m    = add\u001b[0m\n\u001b[1;37m    ^\u001b[0m\n\u001b[1;31mSyntaxError\u001b[0m\u001b[1;31m:\u001b[0m invalid syntax\n"
     ]
    }
   ],
   "source": [
    " = add\n",
    "b = add\n",
    "add = a+b\n",
    "add"
   ]
  },
  {
   "cell_type": "code",
   "execution_count": 15,
   "id": "23c48818-5a79-4e24-9706-a671ac4f66c2",
   "metadata": {},
   "outputs": [
    {
     "ename": "NameError",
     "evalue": "name 'bj' is not defined",
     "output_type": "error",
     "traceback": [
      "\u001b[1;31m---------------------------------------------------------------------------\u001b[0m",
      "\u001b[1;31mNameError\u001b[0m                                 Traceback (most recent call last)",
      "Cell \u001b[1;32mIn[15], line 3\u001b[0m\n\u001b[0;32m      1\u001b[0m a \u001b[38;5;241m=\u001b[39m \u001b[38;5;241m10\u001b[39m\n\u001b[0;32m      2\u001b[0m b \u001b[38;5;241m=\u001b[39m \u001b[38;5;241m20\u001b[39m\n\u001b[1;32m----> 3\u001b[0m c \u001b[38;5;241m=\u001b[39m a\u001b[38;5;241m+\u001b[39mbj\n\u001b[0;32m      4\u001b[0m c\n",
      "\u001b[1;31mNameError\u001b[0m: name 'bj' is not defined"
     ]
    }
   ],
   "source": [
    "a = 10\n",
    "b = 20\n",
    "c = a+bj\n",
    "c"
   ]
  },
  {
   "cell_type": "code",
   "execution_count": 16,
   "id": "dfa0cb98-b1d3-4dc2-9a8d-1ddd9df5ea23",
   "metadata": {},
   "outputs": [
    {
     "data": {
      "text/plain": [
       "(14+22j)"
      ]
     },
     "execution_count": 16,
     "metadata": {},
     "output_type": "execute_result"
    }
   ],
   "source": [
    "a = 10+20J\n",
    "b = 4+2J\n",
    "c = a+b\n",
    "c"
   ]
  },
  {
   "cell_type": "code",
   "execution_count": 42,
   "id": "c94b63c8-dbd1-4f3b-9ff3-01425c6c1daf",
   "metadata": {},
   "outputs": [
    {
     "ename": "TypeError",
     "evalue": "unsupported operand type(s) for +: 'complex' and 'str'",
     "output_type": "error",
     "traceback": [
      "\u001b[1;31m---------------------------------------------------------------------------\u001b[0m",
      "\u001b[1;31mTypeError\u001b[0m                                 Traceback (most recent call last)",
      "Cell \u001b[1;32mIn[42], line 1\u001b[0m\n\u001b[1;32m----> 1\u001b[0m j \u001b[38;5;241m=\u001b[39m \u001b[38;5;241m10\u001b[39mJ \u001b[38;5;241m+\u001b[39m \u001b[38;5;124m\"\u001b[39m\u001b[38;5;124mw\u001b[39m\u001b[38;5;124m\"\u001b[39m\n\u001b[0;32m      2\u001b[0m j\n",
      "\u001b[1;31mTypeError\u001b[0m: unsupported operand type(s) for +: 'complex' and 'str'"
     ]
    }
   ],
   "source": [
    "j = 10J + \"w\"\n",
    "j"
   ]
  },
  {
   "cell_type": "code",
   "execution_count": 36,
   "id": "ac85456e-4d3a-4179-bf12-4405c849dfe2",
   "metadata": {},
   "outputs": [
    {
     "data": {
      "text/plain": [
       "1.0"
      ]
     },
     "execution_count": 36,
     "metadata": {},
     "output_type": "execute_result"
    }
   ],
   "source": [
    "e = 1e0\n",
    "e"
   ]
  },
  {
   "cell_type": "code",
   "execution_count": 39,
   "id": "2e6ff889-2863-49b9-954e-7a484264d138",
   "metadata": {},
   "outputs": [
    {
     "data": {
      "text/plain": [
       "10.0"
      ]
     },
     "execution_count": 39,
     "metadata": {},
     "output_type": "execute_result"
    }
   ],
   "source": [
    "e1 = 1e1\n",
    "e1"
   ]
  },
  {
   "cell_type": "code",
   "execution_count": 40,
   "id": "ce64556d-6c13-42be-bfda-a8133eb184c9",
   "metadata": {},
   "outputs": [
    {
     "ename": "NameError",
     "evalue": "name 'e3' is not defined",
     "output_type": "error",
     "traceback": [
      "\u001b[1;31m---------------------------------------------------------------------------\u001b[0m",
      "\u001b[1;31mNameError\u001b[0m                                 Traceback (most recent call last)",
      "Cell \u001b[1;32mIn[40], line 2\u001b[0m\n\u001b[0;32m      1\u001b[0m e2 \u001b[38;5;241m=\u001b[39m \u001b[38;5;241m1e3\u001b[39m\n\u001b[1;32m----> 2\u001b[0m e3\n",
      "\u001b[1;31mNameError\u001b[0m: name 'e3' is not defined"
     ]
    }
   ],
   "source": [
    "e2 = 1e3\n",
    "e3"
   ]
  },
  {
   "cell_type": "code",
   "execution_count": 41,
   "id": "1b0acedd-d23f-4b8d-aa22-469ecf35b306",
   "metadata": {},
   "outputs": [
    {
     "data": {
      "text/plain": [
       "1000.0"
      ]
     },
     "execution_count": 41,
     "metadata": {},
     "output_type": "execute_result"
    }
   ],
   "source": [
    "e2 = 1e3\n",
    "e2"
   ]
  },
  {
   "cell_type": "code",
   "execution_count": 46,
   "id": "33625294-8728-4ce5-836e-47d99a76b3a4",
   "metadata": {},
   "outputs": [
    {
     "ename": "NameError",
     "evalue": "name 'true' is not defined",
     "output_type": "error",
     "traceback": [
      "\u001b[1;31m---------------------------------------------------------------------------\u001b[0m",
      "\u001b[1;31mNameError\u001b[0m                                 Traceback (most recent call last)",
      "Cell \u001b[1;32mIn[46], line 1\u001b[0m\n\u001b[1;32m----> 1\u001b[0m \u001b[38;5;28mbool\u001b[39m \u001b[38;5;241m=\u001b[39m true\n\u001b[0;32m      2\u001b[0m \u001b[38;5;28mbool\u001b[39m\n",
      "\u001b[1;31mNameError\u001b[0m: name 'true' is not defined"
     ]
    }
   ],
   "source": [
    "bool = true\n",
    "bool"
   ]
  },
  {
   "cell_type": "code",
   "execution_count": 47,
   "id": "3027e16d-7ab9-49a9-b433-e49cda097c75",
   "metadata": {},
   "outputs": [
    {
     "data": {
      "text/plain": [
       "True"
      ]
     },
     "execution_count": 47,
     "metadata": {},
     "output_type": "execute_result"
    }
   ],
   "source": [
    "bool = True\n",
    "bool"
   ]
  },
  {
   "cell_type": "code",
   "execution_count": 48,
   "id": "ca2ffc06-d861-4255-b6e3-7e5b04c17123",
   "metadata": {},
   "outputs": [
    {
     "data": {
      "text/plain": [
       "False"
      ]
     },
     "execution_count": 48,
     "metadata": {},
     "output_type": "execute_result"
    }
   ],
   "source": [
    "boolf = False\n",
    "boolf"
   ]
  },
  {
   "cell_type": "code",
   "execution_count": 49,
   "id": "345c0343-5eb1-42c1-ad93-f29ec4833075",
   "metadata": {},
   "outputs": [
    {
     "data": {
      "text/plain": [
       "bool"
      ]
     },
     "execution_count": 49,
     "metadata": {},
     "output_type": "execute_result"
    }
   ],
   "source": [
    "type(True)\n"
   ]
  },
  {
   "cell_type": "code",
   "execution_count": 50,
   "id": "ae5ef906-c5be-44d7-accc-3eec8ad76318",
   "metadata": {},
   "outputs": [
    {
     "data": {
      "text/plain": [
       "1"
      ]
     },
     "execution_count": 50,
     "metadata": {},
     "output_type": "execute_result"
    }
   ],
   "source": [
    "int(True)"
   ]
  },
  {
   "cell_type": "code",
   "execution_count": 51,
   "id": "58bff244-9e00-44d7-afda-e7b342b825ea",
   "metadata": {},
   "outputs": [
    {
     "data": {
      "text/plain": [
       "0"
      ]
     },
     "execution_count": 51,
     "metadata": {},
     "output_type": "execute_result"
    }
   ],
   "source": [
    "int(False)"
   ]
  },
  {
   "cell_type": "code",
   "execution_count": 52,
   "id": "fbb329b1-1e19-4410-b362-7c3e228c7593",
   "metadata": {},
   "outputs": [
    {
     "data": {
      "text/plain": [
       "2"
      ]
     },
     "execution_count": 52,
     "metadata": {},
     "output_type": "execute_result"
    }
   ],
   "source": [
    "True + True"
   ]
  },
  {
   "cell_type": "code",
   "execution_count": 53,
   "id": "d5f42df0-64f5-40ee-8fde-90e4c4e138d6",
   "metadata": {},
   "outputs": [
    {
     "data": {
      "text/plain": [
       "-1"
      ]
     },
     "execution_count": 53,
     "metadata": {},
     "output_type": "execute_result"
    }
   ],
   "source": [
    "False - True"
   ]
  },
  {
   "cell_type": "code",
   "execution_count": 54,
   "id": "6bf8e896-568e-4be6-9b52-7f44d97dc381",
   "metadata": {},
   "outputs": [
    {
     "data": {
      "text/plain": [
       "-2"
      ]
     },
     "execution_count": 54,
     "metadata": {},
     "output_type": "execute_result"
    }
   ],
   "source": [
    "-True + -True"
   ]
  },
  {
   "cell_type": "code",
   "execution_count": 55,
   "id": "f1ee0cd9-4ddf-481b-94bf-8e4bee2d12ea",
   "metadata": {},
   "outputs": [
    {
     "data": {
      "text/plain": [
       "2"
      ]
     },
     "execution_count": 55,
     "metadata": {},
     "output_type": "execute_result"
    }
   ],
   "source": [
    "True + False*True + True"
   ]
  },
  {
   "cell_type": "code",
   "execution_count": 56,
   "id": "5a5f5aff-3199-4128-a3b9-eea74025b0c7",
   "metadata": {},
   "outputs": [
    {
     "data": {
      "text/plain": [
       "2"
      ]
     },
     "execution_count": 56,
     "metadata": {},
     "output_type": "execute_result"
    }
   ],
   "source": [
    "True - False*True + True"
   ]
  },
  {
   "cell_type": "code",
   "execution_count": 67,
   "id": "3c2fc96a-d57e-4fc0-a185-e3034dc57950",
   "metadata": {},
   "outputs": [
    {
     "name": "stdout",
     "output_type": "stream",
     "text": [
      "False\n",
      "False\n",
      "False\n",
      "True\n",
      "False\n"
     ]
    }
   ],
   "source": [
    "n = 5\n",
    "t = 3\n",
    "for i in range(n):\n",
    "    if t == i:\n",
    "        print(True)\n",
    "    else:\n",
    "        print(False)"
   ]
  },
  {
   "cell_type": "code",
   "execution_count": null,
   "id": "9593ecdf-8e59-4490-870b-4466c415b14c",
   "metadata": {},
   "outputs": [],
   "source": []
  }
 ],
 "metadata": {
  "kernelspec": {
   "display_name": "Python [conda env:base] *",
   "language": "python",
   "name": "conda-base-py"
  },
  "language_info": {
   "codemirror_mode": {
    "name": "ipython",
    "version": 3
   },
   "file_extension": ".py",
   "mimetype": "text/x-python",
   "name": "python",
   "nbconvert_exporter": "python",
   "pygments_lexer": "ipython3",
   "version": "3.12.7"
  }
 },
 "nbformat": 4,
 "nbformat_minor": 5
}
